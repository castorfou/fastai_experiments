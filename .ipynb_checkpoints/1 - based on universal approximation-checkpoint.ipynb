{
 "cells": [
  {
   "cell_type": "markdown",
   "metadata": {},
   "source": [
    "## Example of approximating 1D functions with a single layer neural network"
   ]
  },
  {
   "cell_type": "code",
   "execution_count": 2,
   "metadata": {
    "ExecuteTime": {
     "end_time": "2020-09-28T09:49:18.904203Z",
     "start_time": "2020-09-28T09:49:18.464043Z"
    }
   },
   "outputs": [],
   "source": [
    "import torch\n",
    "import matplotlib.pyplot as plt\n",
    "from fastai.data.all import *\n",
    "from fastai.callback.all import *\n",
    "from fastai.learner import Learner"
   ]
  },
  {
   "cell_type": "markdown",
   "metadata": {},
   "source": [
    "#### Change to the function you want to interpolate\n",
    "It uses [-1, 1] as domain. It works the best if the codomain is close to that range as well. For other ranges and it should work but needed more training steps."
   ]
  },
  {
   "cell_type": "code",
   "execution_count": 3,
   "metadata": {
    "ExecuteTime": {
     "end_time": "2020-09-28T09:49:20.092935Z",
     "start_time": "2020-09-28T09:49:20.089627Z"
    }
   },
   "outputs": [],
   "source": [
    "def func(x):\n",
    "    return .5-x*x+torch.cos(5*torch.sin(8*x))/2\n",
    "    "
   ]
  },
  {
   "cell_type": "markdown",
   "metadata": {},
   "source": [
    "#### Creating a fastai `DataLoaders` instance\n",
    "\n",
    "It contains 10000 random points from the range [-1, 1]"
   ]
  },
  {
   "cell_type": "code",
   "execution_count": 10,
   "metadata": {
    "ExecuteTime": {
     "end_time": "2020-09-28T09:50:16.551415Z",
     "start_time": "2020-09-28T09:50:16.410398Z"
    },
    "scrolled": true
   },
   "outputs": [
    {
     "name": "stdout",
     "output_type": "stream",
     "text": [
      "Could not do one pass in your dataloader, there is something wrong in it\n"
     ]
    },
    {
     "data": {
      "image/png": "[encoded data removed]",
      "text/plain": [
       "<Figure size 432x288 with 1 Axes>"
      ]
     },
     "metadata": {
      "needs_background": "light"
     },
     "output_type": "display_data"
    }
   ],
   "source": [
    "def get_dls(f, bs):\n",
    "    x = 2 * torch.rand(10000) - 1\n",
    "    y = func(x)\n",
    "    plt.scatter(x,y)\n",
    "    db = DataBlock(get_x = lambda x:x[0], get_y=lambda x:x[1])\n",
    "    data = torch.stack((x,y),dim=1)\n",
    "    return db.dataloaders(data,bs=bs, device=torch.device('cuda'), valid_pct=10)\n",
    "\n",
    "dls = get_dls(func, 50)"
   ]
  },
  {
   "cell_type": "markdown",
   "metadata": {},
   "source": [
    "#### A simple model with a single linear layer\n",
    "I fiddled with the activation function and initialization of the paramaters to make it train well on this problem.\n",
    "Rather than the standard relu(W * x + B) it uses abs(x + B) / W clamped to (0,1). It has the same expressive power, but in my experiments I was able to train it faster and more consistently."
   ]
  },
  {
   "cell_type": "code",
   "execution_count": 11,
   "metadata": {
    "ExecuteTime": {
     "end_time": "2020-09-28T09:50:18.472488Z",
     "start_time": "2020-09-28T09:50:18.466144Z"
    }
   },
   "outputs": [],
   "source": [
    "class BarModule(torch.nn.Module):\n",
    "    def __init__(self, n):\n",
    "        super().__init__()\n",
    "        self.w1 = nn.Parameter(2 * torch.ones(n) / n )\n",
    "        self.b = nn.Parameter(torch.rand(n) * 2 - 1)\n",
    "        self.w2 = nn.Parameter(torch.randn(n) / 10)\n",
    "       \n",
    "    def forward(self, x):\n",
    "        x = x[:,None]\n",
    "        dist = torch.abs(x + self.b) / self.w1\n",
    "        res = 1 - dist.clamp(0,1)\n",
    "        res = res * self.w2\n",
    "        return torch.sum(res, dim=1) "
   ]
  },
  {
   "cell_type": "markdown",
   "metadata": {},
   "source": [
    "#### A helper class to display progress of the training"
   ]
  },
  {
   "cell_type": "code",
   "execution_count": 12,
   "metadata": {
    "ExecuteTime": {
     "end_time": "2020-09-28T09:50:20.759998Z",
     "start_time": "2020-09-28T09:50:20.753223Z"
    }
   },
   "outputs": [],
   "source": [
    "class ShowChart(Callback):\n",
    "    \n",
    "    def __init__(self, figsize=(10,10)):\n",
    "        self.figsize = figsize\n",
    "        self.dx = torch.linspace(-1,1,1000)\n",
    "        self.dy = func(self.dx)\n",
    "        self.miny = self.dy.min().item()\n",
    "        self.maxy = self.dy.max().item()\n",
    "        self.bc = 0\n",
    "    def after_batch(self):\n",
    "        self.bc +=1\n",
    "        if self.bc % 20 == 0:\n",
    "            self.update_graph()\n",
    "    \n",
    "    \n",
    "    def begin_fit(self):\n",
    "        graph_fig, self.graph_ax = plt.subplots(1, figsize=self.figsize)\n",
    "        plt.close()\n",
    "        self.graph_out = display(self.graph_ax.figure, display_id=True)\n",
    "        self.update_graph()\n",
    "        \n",
    "    def update_graph(self):\n",
    "        if not hasattr(self, 'graph_ax'): return\n",
    "        model = self.learn.model    \n",
    "        prediction = model(self.dx).detach()\n",
    "        self.graph_ax.clear()\n",
    "        self.graph_ax.set_ylim(self.miny, self.maxy)\n",
    "        self.graph_ax.plot(self.dx, self.dy, label='actual')\n",
    "        self.graph_ax.plot(self.dx,prediction, label = 'pred')\n",
    "        self.graph_ax.legend(loc='lower left');\n",
    "        self.graph_out.update(self.graph_ax.figure)\n",
    "       "
   ]
  },
  {
   "cell_type": "markdown",
   "metadata": {},
   "source": [
    "#### Creating a model instance and the Learner. Change the value of the `n` argument to modify the number of neurons used"
   ]
  },
  {
   "cell_type": "code",
   "execution_count": 13,
   "metadata": {
    "ExecuteTime": {
     "end_time": "2020-09-28T09:50:28.544514Z",
     "start_time": "2020-09-28T09:50:28.541006Z"
    }
   },
   "outputs": [],
   "source": [
    "bm = BarModule(5)\n",
    "learn = Learner(dls,bm, loss_func=nn.MSELoss(), cbs = ShowChart)"
   ]
  },
  {
   "cell_type": "code",
   "execution_count": null,
   "metadata": {
    "ExecuteTime": {
     "start_time": "2020-09-28T09:50:29.249Z"
    },
    "scrolled": false
   },
   "outputs": [],
   "source": [
    "learn.fit(20, lr=1e-3 )"
   ]
  },
  {
   "cell_type": "code",
   "execution_count": null,
   "metadata": {},
   "outputs": [],
   "source": []
  },
  {
   "cell_type": "code",
   "execution_count": null,
   "metadata": {},
   "outputs": [],
   "source": []
  }
 ],
 "metadata": {
  "kernelspec": {
   "display_name": "Python 3",
   "language": "python",
   "name": "python3"
  },
  "language_info": {
   "codemirror_mode": {
    "name": "ipython",
    "version": 3
   },
   "file_extension": ".py",
   "mimetype": "text/x-python",
   "name": "python",
   "nbconvert_exporter": "python",
   "pygments_lexer": "ipython3",
   "version": "3.8.2"
  },
  "toc": {
   "base_numbering": 1,
   "nav_menu": {},
   "number_sections": true,
   "sideBar": true,
   "skip_h1_title": false,
   "title_cell": "Table of Contents",
   "title_sidebar": "Contents",
   "toc_cell": false,
   "toc_position": {},
   "toc_section_display": true,
   "toc_window_display": false
  }
 },
 "nbformat": 4,
 "nbformat_minor": 4
}
